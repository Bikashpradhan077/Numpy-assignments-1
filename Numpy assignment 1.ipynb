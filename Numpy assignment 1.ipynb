{
 "cells": [
  {
   "cell_type": "code",
   "execution_count": 21,
   "id": "e37b762d",
   "metadata": {},
   "outputs": [
    {
     "name": "stdout",
     "output_type": "stream",
     "text": [
      "[0. 0. 0. 0. 1. 0. 0. 0. 0. 0.]\n"
     ]
    }
   ],
   "source": [
    "#Create a null vector of size 10 but the fifth value which is 1.\n",
    "\n",
    "import numpy as np\n",
    "z = np.zeros(10)\n",
    "z[4] = 1\n",
    "print(z)"
   ]
  },
  {
   "cell_type": "code",
   "execution_count": 22,
   "id": "eb1aecf1",
   "metadata": {},
   "outputs": [
    {
     "name": "stdout",
     "output_type": "stream",
     "text": [
      "[10 11 12 13 14 15 16 17 18 19 20 21 22 23 24 25 26 27 28 29 30 31 32 33\n",
      " 34 35 36 37 38 39 40 41 42 43 44 45 46 47 48 49]\n"
     ]
    }
   ],
   "source": [
    "#2. Create a vector with values ranging from 10 to 49.\n",
    "import numpy as np\n",
    "z = np.arange(10,50)\n",
    "print(z)"
   ]
  },
  {
   "cell_type": "code",
   "execution_count": 23,
   "id": "28761b53",
   "metadata": {},
   "outputs": [
    {
     "name": "stdout",
     "output_type": "stream",
     "text": [
      "[[0 1 2]\n",
      " [3 4 5]\n",
      " [6 7 8]]\n"
     ]
    }
   ],
   "source": [
    "# 3. Create a 3x3 matrix with values ranging from 0 to 8\n",
    "\n",
    "import numpy as np\n",
    "z = np.arange(9).reshape(3,3)\n",
    "print(z)\n",
    "\n",
    "        "
   ]
  },
  {
   "cell_type": "code",
   "execution_count": 24,
   "id": "6893c773",
   "metadata": {},
   "outputs": [
    {
     "name": "stdout",
     "output_type": "stream",
     "text": [
      "[0, 1, 4]\n"
     ]
    }
   ],
   "source": [
    "# 4. Find indices of non-zero elements from [1,2,0,0,4,0]\n",
    "import numpy as np\n",
    "l = [1,2,0,0,4,0]\n",
    "z = np.array(l)\n",
    "l_new = list(np.nonzero(z)[0])\n",
    "print(l_new)"
   ]
  },
  {
   "cell_type": "code",
   "execution_count": 26,
   "id": "f40ffc75",
   "metadata": {},
   "outputs": [
    {
     "name": "stdout",
     "output_type": "stream",
     "text": [
      "[[0.31588732 0.79605779 0.48409834 0.4079178  0.55048683 0.34782106\n",
      "  0.90698011 0.93906671 0.77127654 0.40074276]\n",
      " [0.92915159 0.57086091 0.62164298 0.25933821 0.36205434 0.2479902\n",
      "  0.01218251 0.6345124  0.9310603  0.50546726]\n",
      " [0.9220527  0.51649521 0.48478434 0.94580416 0.37887756 0.81314126\n",
      "  0.54811375 0.95789746 0.47936866 0.60568983]\n",
      " [0.1781726  0.37716712 0.64859658 0.9072112  0.42186883 0.00191074\n",
      "  0.13004852 0.8156539  0.29317824 0.03309841]\n",
      " [0.58659076 0.96493712 0.34992318 0.43067842 0.3673997  0.82154616\n",
      "  0.76211142 0.5259477  0.82097217 0.89150747]\n",
      " [0.74562399 0.84495953 0.95488749 0.20128549 0.24225816 0.41693327\n",
      "  0.04519045 0.2200011  0.4662236  0.95619797]\n",
      " [0.82219581 0.94035893 0.36530868 0.01045143 0.95337597 0.03413072\n",
      "  0.83090388 0.98525467 0.02139596 0.31085158]\n",
      " [0.77573949 0.83400348 0.86464745 0.1703996  0.04198138 0.35689969\n",
      "  0.9133461  0.84527054 0.52126961 0.57544772]\n",
      " [0.31433519 0.63951973 0.55178349 0.65157521 0.51661919 0.30813833\n",
      "  0.97193572 0.0635782  0.00253793 0.54778747]\n",
      " [0.72644261 0.38585375 0.6363953  0.99749344 0.67642488 0.69636447\n",
      "  0.158305   0.88559757 0.69263499 0.06172623]]\n",
      "minimum and maximum values:\n",
      "0.0019107425581692539 0.9974934404840258\n"
     ]
    }
   ],
   "source": [
    "# 5. Create a 10x10 array with random values and find the minimum and maximum values.\n",
    "import numpy as np \n",
    "u = np.random.random((10,10))\n",
    "print(u)\n",
    "umin,umax = u.min(),u.max()\n",
    "print(\"minimum and maximum values:\")\n",
    "print(umin,umax)"
   ]
  },
  {
   "cell_type": "code",
   "execution_count": 27,
   "id": "61a75585",
   "metadata": {},
   "outputs": [
    {
     "name": "stdout",
     "output_type": "stream",
     "text": [
      "0.4381379424029304\n"
     ]
    }
   ],
   "source": [
    "# 6. Create a random vector of size 30 and find the mean value.\n",
    "\n",
    "z = np.random.random(30)\n",
    "m =z.mean()\n",
    "print(m)"
   ]
  },
  {
   "cell_type": "code",
   "execution_count": null,
   "id": "5f30f84c",
   "metadata": {},
   "outputs": [],
   "source": []
  }
 ],
 "metadata": {
  "kernelspec": {
   "display_name": "Python 3 (ipykernel)",
   "language": "python",
   "name": "python3"
  },
  "language_info": {
   "codemirror_mode": {
    "name": "ipython",
    "version": 3
   },
   "file_extension": ".py",
   "mimetype": "text/x-python",
   "name": "python",
   "nbconvert_exporter": "python",
   "pygments_lexer": "ipython3",
   "version": "3.9.13"
  }
 },
 "nbformat": 4,
 "nbformat_minor": 5
}
